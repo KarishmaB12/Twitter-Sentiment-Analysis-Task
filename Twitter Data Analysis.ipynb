{
 "cells": [
  {
   "cell_type": "markdown",
   "metadata": {},
   "source": [
    "# Twitter Data Analysis"
   ]
  },
  {
   "cell_type": "markdown",
   "metadata": {},
   "source": [
    "## Problem Statement\n",
    "\n",
    "Given a set of tweets on a trending topic crawled using Twitter API, classify each tweet into positive, negative or neutral sentiment. You may use one of these trending topics:\n",
    "<ol>\n",
    "<li>#MidtermElection2018</li>\n",
    "<li>#ThalapathyKingOfBoxOffice</li>\n",
    "</ol>"
   ]
  },
  {
   "cell_type": "markdown",
   "metadata": {},
   "source": [
    "## Solution\n",
    "\n",
    "[DATA COLLECTION](#DATA-COLLECTION)\n",
    "<ol>\n",
    "<li>A random sample of 500 tweets using Twitter API has been collected</li>\n",
    "<li>These tweets are stored them in a MongoDB instance.</li>\n",
    "<li>This MongoDB instance is then stored in a <i>.csv</i> file.</li>\n",
    "</ol>\n",
    "\n",
    "<p>\n",
    "<div class = \"alert alert-success\">The Jupyter Notebooks for data collection module can be accessed here.\n",
    "<ol>\n",
    "<li>[#MidtermElection2018](Midterm Election 2018.ipynb)</li>\n",
    "<li>[#ThalapathyKingOfBoxOffice](Thalapathy King Of Box Office.ipynb)</li>\n",
    "</ol>\n",
    "</div>\n",
    "</p>"
   ]
  },
  {
   "cell_type": "markdown",
   "metadata": {},
   "source": [
    "[EXPLORATORY DATA ANALYSIS](#EXPLORATORY-DATA-ANALYSIS)\n",
    "<ol>\n",
    "<li>Getting train and test datasets into a uniform format</li>\n",
    "<ul>\n",
    "<li>Dropped ItemID column from train data</li>\n",
    "<li>Renamed columns in train and test sets</li>\n",
    "</ul>\n",
    "</ol>"
   ]
  },
  {
   "cell_type": "markdown",
   "metadata": {},
   "source": [
    "[TEXT PREPROCESSING](#TEXT-PREPROCESSING)\n",
    "\n",
    "1) Data cleaning tasks are performed.\n",
    "- Removing Twitter User handles (<i>@user</i>)\n",
    "- Removing punctuations, numbers and special characters\n",
    "- Removing Short Words (<i>'hm','aw'</i>)\n",
    "- Removing Stop Words\n",
    "\n",
    "2) Preprocessing tasks are performed.\n",
    "- Conversion of text to Lowercase\n",
    "- Tokenization\n",
    "- Stemming"
   ]
  },
  {
   "cell_type": "markdown",
   "metadata": {},
   "source": [
    "[VISUALIZATION](#VISUALIZATION)\n",
    "\n",
    "1) Wordcloud visualizations to identify common words. \n",
    "- All words in our data\n",
    "- Words in positive sentiment tweets\n",
    "- Words in negative sentiment tweets\n",
    "    \n",
    "\n",
    "2) Term Frequency of most common words across sentiments.\n",
    "- Positive sentiment\n",
    "- Negative Sentiment\n",
    "\n",
    "3) Count of tweets across sentiments in training set.\n",
    "- Positive sentiment\n",
    "- Negative Sentiment"
   ]
  },
  {
   "cell_type": "markdown",
   "metadata": {},
   "source": [
    "[SENTIMENT ANALYSIS](#SENTIMENT-ANALYSIS)\n",
    "\n",
    "Two approaches have been followed</li>\n",
    "<ul>\n",
    "<li>Utilizing in-built Python Package <i>TextBlob</i></li>\n",
    "<li>Building a Classification Model using <i>Logistic Regression</i> Algorithm</li>\n",
    "</ul>\n",
    "\n",
    "<p>\n",
    "<div class = \"alter alert-success\">The Jupyter Notebook for EDA, Text Preprocessing, Visualizations and Sentiment Analysis can be accessed [here](#Analysis of Tweets.ipynb)\n",
    "\n",
    "<br>\n",
    "</div>\n",
    "</p>"
   ]
  },
  {
   "cell_type": "code",
   "execution_count": null,
   "metadata": {
    "collapsed": true
   },
   "outputs": [],
   "source": []
  }
 ],
 "metadata": {
  "kernelspec": {
   "display_name": "Python 3",
   "language": "python",
   "name": "python3"
  },
  "language_info": {
   "codemirror_mode": {
    "name": "ipython",
    "version": 3
   },
   "file_extension": ".py",
   "mimetype": "text/x-python",
   "name": "python",
   "nbconvert_exporter": "python",
   "pygments_lexer": "ipython3",
   "version": "3.6.6"
  }
 },
 "nbformat": 4,
 "nbformat_minor": 2
}
